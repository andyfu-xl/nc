{
 "cells": [
  {
   "cell_type": "markdown",
   "id": "24ce8019",
   "metadata": {},
   "source": [
    "# Genetic Program Example - adapted from TinyGP by Moshesipper"
   ]
  },
  {
   "cell_type": "markdown",
   "id": "cc37c89f",
   "metadata": {},
   "source": [
    "Import libraries"
   ]
  },
  {
   "cell_type": "code",
   "execution_count": 1,
   "id": "9bfbefb4",
   "metadata": {},
   "outputs": [],
   "source": [
    "from random import random, randint, seed\n",
    "from statistics import mean\n",
    "from copy import deepcopy\n",
    "import numpy as np"
   ]
  },
  {
   "cell_type": "markdown",
   "id": "f3b61caf",
   "metadata": {},
   "source": [
    "## Define parameters"
   ]
  },
  {
   "cell_type": "markdown",
   "id": "8ff2b5ee",
   "metadata": {},
   "source": [
    "We must now define our parameters, and allow for bloat control."
   ]
  },
  {
   "cell_type": "code",
   "execution_count": 45,
   "id": "06c2ce48",
   "metadata": {},
   "outputs": [],
   "source": [
    "POP_SIZE        = 36   # population size\n",
    "MIN_DEPTH       = 2    # minimal initial random tree depth\n",
    "MAX_DEPTH       = 5    # maximal initial random tree depth\n",
    "GENERATIONS     = 50  # maximal number of generations to run evolution\n",
    "TOURNAMENT_SIZE = 5    # size of tournament for tournament selection\n",
    "XO_RATE         = 0.8  # crossover rate \n",
    "PROB_MUTATION   = 0.2  # per-node mutation probability "
   ]
  },
  {
   "cell_type": "markdown",
   "id": "f8c81d17",
   "metadata": {},
   "source": [
    "## Defining non-terminals and terminals"
   ]
  },
  {
   "cell_type": "markdown",
   "id": "36b958ad",
   "metadata": {},
   "source": [
    "Define functions for non terminal set - this can be done natively in functional programming languages."
   ]
  },
  {
   "cell_type": "code",
   "execution_count": 3,
   "id": "1749c44f",
   "metadata": {},
   "outputs": [],
   "source": [
    "def add(x, y): return x + y\n",
    "def sub(x, y): return x - y\n",
    "def sqr(x): return x * x\n",
    "def cos(x): return np.cos(2 * np.pi * x)\n",
    "def mul(x, y): return x * y\n",
    "#def div(x,y): return x/y # Consider what issues might arrise with this function"
   ]
  },
  {
   "cell_type": "markdown",
   "id": "3848142a",
   "metadata": {},
   "source": [
    "Define terminal and non-terminal sets"
   ]
  },
  {
   "cell_type": "code",
   "execution_count": 4,
   "id": "0ccff1ee",
   "metadata": {},
   "outputs": [],
   "source": [
    "FUNCTIONS2 = [add, sub, mul]\n",
    "FUNCTIONS1 = [sqr, cos]\n",
    "FUNCTIONS = [sqr, cos, add, sub, mul]\n",
    "TERMINALS = ['x', 10]#, 2, 'd', 'pi']"
   ]
  },
  {
   "cell_type": "markdown",
   "id": "f701c868",
   "metadata": {},
   "source": [
    "## Managing our dataset"
   ]
  },
  {
   "cell_type": "markdown",
   "id": "d765bbae",
   "metadata": {},
   "source": [
    "In usual settings you will have a dataset which you are working from, much in the same way as in traditional ML tasks; however, for the assignment and for observing, we will consider a target function and a create a dataset from that."
   ]
  },
  {
   "cell_type": "code",
   "execution_count": 5,
   "id": "c5510e5f",
   "metadata": {},
   "outputs": [],
   "source": [
    "def target_func(x): # evolution's target\n",
    "    return (10 * 1) + (x ** 2 - 10 * np.cos(2 * np.pi * x))"
   ]
  },
  {
   "cell_type": "code",
   "execution_count": 6,
   "id": "d5dcd884",
   "metadata": {},
   "outputs": [],
   "source": [
    "def generate_dataset(): # generate 101 data points from target_func\n",
    "    dataset = []\n",
    "    for x in range(-50,50, 6):\n",
    "        x = x / 10\n",
    "        dataset.append([x, target_func(x)])\n",
    "    return dataset"
   ]
  },
  {
   "cell_type": "markdown",
   "id": "7475e370",
   "metadata": {},
   "source": [
    "## Creating the genetic program class"
   ]
  },
  {
   "cell_type": "code",
   "execution_count": 7,
   "id": "c4935ffd",
   "metadata": {},
   "outputs": [],
   "source": [
    "class GPTree:\n",
    "    def __init__(self, data = None, left = None, right = None):\n",
    "        self.data  = data\n",
    "        self.left  = left\n",
    "        self.right = right\n",
    "        \n",
    "    def node_label(self): # string label\n",
    "        if (self.data in FUNCTIONS):\n",
    "            return self.data.__name__\n",
    "        else: \n",
    "            return str(self.data)\n",
    "    \n",
    "    def print_tree(self, prefix = \"\"): # textual printout\n",
    "        print(\"%s%s\" % (prefix, self.node_label()))        \n",
    "        if self.data not in FUNCTIONS1:\n",
    "            if self.left:  self.left.print_tree (prefix + \"   \")\n",
    "        if self.right: self.right.print_tree(prefix + \"   \")\n",
    "\n",
    "    def compute_tree(self, x): \n",
    "        if (self.data in FUNCTIONS2): \n",
    "            return self.data(self.left.compute_tree(x), self.right.compute_tree(x))\n",
    "        elif (self.data in FUNCTIONS1):\n",
    "            return self.data(self.right.compute_tree(x))\n",
    "        elif self.data == 'x': return x\n",
    "        elif self.data == 'pi': return np.pi\n",
    "        elif self.data == 'd': return 1\n",
    "        else: return self.data\n",
    "            \n",
    "    def random_tree(self, grow, max_depth, depth = 0): # create random tree using either grow or full method\n",
    "        if depth < MIN_DEPTH or (depth < max_depth and not grow): \n",
    "            self.data = FUNCTIONS[randint(0, len(FUNCTIONS)-1)]\n",
    "        elif depth >= max_depth:   \n",
    "            self.data = TERMINALS[randint(0, len(TERMINALS)-1)]\n",
    "        else: # intermediate depth, grow\n",
    "            if random () > 0.5: \n",
    "                self.data = TERMINALS[randint(0, len(TERMINALS)-1)]\n",
    "            else:\n",
    "                self.data = FUNCTIONS[randint(0, len(FUNCTIONS)-1)]\n",
    "        if self.data in FUNCTIONS2:\n",
    "            self.left = GPTree()          \n",
    "            self.left.random_tree(grow, max_depth, depth = depth + 1)            \n",
    "            self.right = GPTree()\n",
    "            self.right.random_tree(grow, max_depth, depth = depth + 1)\n",
    "        elif self.data in FUNCTIONS1:\n",
    "            self.right = GPTree()\n",
    "            self.right.random_tree(grow, max_depth, depth = depth + 1)\n",
    "\n",
    "    def mutation(self):\n",
    "        if random() < PROB_MUTATION: # mutate at this node\n",
    "            self.random_tree(grow = True, max_depth = 2)\n",
    "        elif self.left: self.left.mutation()\n",
    "        elif self.right: self.right.mutation() \n",
    "\n",
    "    def size(self): # tree size in nodes\n",
    "        if self.data in TERMINALS: return 1\n",
    "        l = self.left.size()  if self.left  else 0\n",
    "        r = self.right.size() if self.right else 0\n",
    "        return 1 + l + r\n",
    "\n",
    "    def build_subtree(self): # count is list in order to pass \"by reference\"\n",
    "        t = GPTree()\n",
    "        t.data = self.data\n",
    "        if self.left:  t.left  = self.left.build_subtree()\n",
    "        if self.right: t.right = self.right.build_subtree()\n",
    "        return t\n",
    "                        \n",
    "    def scan_tree(self, count, second): # note: count is list, so it's passed \"by reference\"\n",
    "        count[0] -= 1            \n",
    "        if count[0] <= 1: \n",
    "            if not second: # return subtree rooted here\n",
    "                return self.build_subtree()\n",
    "            else: # glue subtree here\n",
    "                self.data  = second.data\n",
    "                self.left  = second.left\n",
    "                self.right = second.right\n",
    "        else:  \n",
    "            ret = None              \n",
    "            if self.left  and count[0] > 1: ret = self.left.scan_tree(count, second)  \n",
    "            if self.right and count[0] > 1: ret = self.right.scan_tree(count, second)  \n",
    "            return ret\n",
    "\n",
    "    def crossover(self, other): # xo 2 trees at random nodes\n",
    "        if random() < XO_RATE:\n",
    "            second = other.scan_tree([randint(1, other.size())], None) # 2nd random subtree\n",
    "            self.scan_tree([randint(1, self.size())], second) # 2nd subtree \"glued\" inside 1st tree"
   ]
  },
  {
   "cell_type": "markdown",
   "id": "52803c9b",
   "metadata": {},
   "source": [
    "## Fitness and selection"
   ]
  },
  {
   "cell_type": "code",
   "execution_count": 8,
   "id": "c160de25",
   "metadata": {},
   "outputs": [],
   "source": [
    "def fitness(individual, dataset): # inverse mean absolute error over dataset normalized to [0,1]\n",
    "    return 1 / (1 + mean([abs(individual.compute_tree(ds[0]) - ds[1]) for ds in dataset]))"
   ]
  },
  {
   "cell_type": "markdown",
   "id": "4000f915",
   "metadata": {},
   "source": [
    "In the example we are using we are using tournament based fitness. What benefits and negatives does tournament selection have?"
   ]
  },
  {
   "cell_type": "code",
   "execution_count": 9,
   "id": "95e19e38",
   "metadata": {},
   "outputs": [],
   "source": [
    "def selection(population, fitnesses): # select one individual using tournament selection\n",
    "    tournament = [randint(0, len(population)-1) for i in range(TOURNAMENT_SIZE)] # select tournament contenders\n",
    "    tournament_fitnesses = [fitnesses[tournament[i]] for i in range(TOURNAMENT_SIZE)]\n",
    "    return deepcopy(population[tournament[tournament_fitnesses.index(max(tournament_fitnesses))]]) "
   ]
  },
  {
   "cell_type": "markdown",
   "id": "4a920f88",
   "metadata": {},
   "source": [
    "Try to implement a roulette wheel selection for this and compare your results."
   ]
  },
  {
   "cell_type": "code",
   "execution_count": 10,
   "id": "b5537d24",
   "metadata": {},
   "outputs": [],
   "source": [
    "def roulette_selection(population, fitnesses):\n",
    "    pass"
   ]
  },
  {
   "cell_type": "code",
   "execution_count": 11,
   "id": "a83590f8",
   "metadata": {},
   "outputs": [],
   "source": [
    "def init_population(): # ramped half-and-half\n",
    "    pop = []\n",
    "    for md in range(3, MAX_DEPTH + 1):\n",
    "        for i in range(int(POP_SIZE/6)):\n",
    "            t = GPTree()\n",
    "            t.random_tree(grow = True, max_depth = md) # grow\n",
    "            pop.append(t) \n",
    "        for i in range(int(POP_SIZE/6)):\n",
    "            t = GPTree()\n",
    "            t.random_tree(grow = False, max_depth = md) # full\n",
    "            pop.append(t) \n",
    "    return pop"
   ]
  },
  {
   "cell_type": "markdown",
   "id": "148d0796",
   "metadata": {},
   "source": [
    "##  Main Loop"
   ]
  },
  {
   "cell_type": "code",
   "execution_count": 47,
   "id": "bce6449b",
   "metadata": {},
   "outputs": [
    {
     "name": "stdout",
     "output_type": "stream",
     "text": [
      "\n",
      "\n",
      "_________________________________________________\n",
      "END OF RUN\n",
      "best_of_run attained at gen 33 and has f=1.0\n",
      "add\n",
      "   mul\n",
      "      sub\n",
      "         mul\n",
      "            sqr\n",
      "               10\n",
      "            sub\n",
      "               10\n",
      "               10\n",
      "         10\n",
      "      cos\n",
      "         x\n",
      "   add\n",
      "      10\n",
      "      mul\n",
      "         x\n",
      "         x\n"
     ]
    }
   ],
   "source": [
    "    dataset = generate_dataset()\n",
    "    population = init_population() \n",
    "    best_of_run = None\n",
    "    best_of_run_f = 0\n",
    "    best_of_run_gen = 0\n",
    "    fitnesses = [fitness(population[i], dataset) for i in range(POP_SIZE)]\n",
    "\n",
    "    # go evolution!\n",
    "    for gen in range(GENERATIONS):        \n",
    "        nextgen_population=[]\n",
    "        for i in range(POP_SIZE):\n",
    "            parent1 = selection(population, fitnesses)\n",
    "            parent2 = selection(population, fitnesses)\n",
    "            parent1.crossover(parent2)\n",
    "            parent1.mutation()\n",
    "            nextgen_population.append(parent1)\n",
    "        population=nextgen_population\n",
    "        fitnesses = [fitness(population[i], dataset) for i in range(POP_SIZE)]\n",
    "        if max(fitnesses) > best_of_run_f:\n",
    "            best_of_run_f = max(fitnesses)\n",
    "            best_of_run_gen = gen\n",
    "            best_of_run = deepcopy(population[fitnesses.index(max(fitnesses))])\n",
    "#             print(\"________________________\")\n",
    "#             print(\"gen:\", gen, \", best_of_run_f:\", round(max(fitnesses),3), \", best_of_run:\") \n",
    "#             best_of_run.print_tree()\n",
    "        if best_of_run_f == 1: break   \n",
    "    \n",
    "    print(\"\\n\\n_________________________________________________\\nEND OF RUN\\nbest_of_run attained at gen \" + str(best_of_run_gen) +\\\n",
    "          \" and has f=\" + str(round(best_of_run_f,3)))\n",
    "    best_of_run.print_tree()"
   ]
  },
  {
   "cell_type": "code",
   "execution_count": null,
   "id": "b6e2fe0e",
   "metadata": {},
   "outputs": [],
   "source": []
  }
 ],
 "metadata": {
  "kernelspec": {
   "display_name": "Python 3",
   "language": "python",
   "name": "python3"
  },
  "language_info": {
   "codemirror_mode": {
    "name": "ipython",
    "version": 3
   },
   "file_extension": ".py",
   "mimetype": "text/x-python",
   "name": "python",
   "nbconvert_exporter": "python",
   "pygments_lexer": "ipython3",
   "version": "3.9.5"
  }
 },
 "nbformat": 4,
 "nbformat_minor": 5
}
